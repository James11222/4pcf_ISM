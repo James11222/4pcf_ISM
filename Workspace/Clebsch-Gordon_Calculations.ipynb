{
 "cells": [
  {
   "cell_type": "code",
   "execution_count": 1,
   "id": "peripheral-bumper",
   "metadata": {},
   "outputs": [],
   "source": [
    "from sympy.physics.quantum.cg import CG\n",
    "from sympy import S\n",
    "import numpy as np"
   ]
  },
  {
   "cell_type": "markdown",
   "id": "signal-impression",
   "metadata": {},
   "source": [
    "# Generate all Clebsch-Gordon Coefficients\n",
    "\n",
    "We generate all Clebsch-Gordon Coefficients for $\\ell_{max} = 5$ using integer steps. We then store all thee coefficients in a 6D array. The form of Clebsch-Gordon Coefficients is $C^{\\ell_1 \\ell_2 \\ell_2}_{m_1,m_2,m_3}$"
   ]
  },
  {
   "cell_type": "code",
   "execution_count": 71,
   "id": "labeled-former",
   "metadata": {},
   "outputs": [
    {
     "name": "stdout",
     "output_type": "stream",
     "text": [
      "(6, 6, 6, 11, 11, 11)\n"
     ]
    }
   ],
   "source": [
    "ell_max = 5\n",
    "\n",
    "CG_Coefficients = np.zeros((ell_max+1, ell_max+1, ell_max+1, 2*ell_max+1, 2*ell_max+1, 2*ell_max+1))\n",
    "\n",
    "for l_1 in range(0, ell_max+1):\n",
    "    for l_2 in range(0, ell_max+1):\n",
    "        for l_3 in range(0, ell_max+1):\n",
    "            for m_1 in range(-l_1, l_1+1):\n",
    "                for m_2 in range(-l_2, l_2+1):\n",
    "                    for m_3 in range(-l_3, l_3+1):\n",
    "                        #CG(j1, m1, j2, m2, j3, m3)\n",
    "                        cg = CG(l_1, m_1, l_2, m_2, l_3, m_3)\n",
    "                        CG_Coefficients[l_1, l_2, l_3, m_1, m_2, m_3] = cg.doit().evalf()\n",
    "                        \n",
    "np.save(\"CG_Coeffs.npy\", CG_Coefficients)                     "
   ]
  },
  {
   "cell_type": "markdown",
   "id": "introductory-composition",
   "metadata": {},
   "source": [
    "## Test to make sure our array is the same as expected"
   ]
  },
  {
   "cell_type": "code",
   "execution_count": 76,
   "id": "alpha-better",
   "metadata": {},
   "outputs": [
    {
     "name": "stdout",
     "output_type": "stream",
     "text": [
      "Our coefficient for l1=l2=l3 = 2 & m1=m2=m3 = 0 is -0.53452248\n",
      "Sympy's coefficient for l1=l2=l3 = 2 & m1=m2=m3 = 0 is -0.53452248\n"
     ]
    }
   ],
   "source": [
    "cg = CG(2,0,2,0,2,0)\n",
    "cg = cg.doit().evalf()\n",
    "\n",
    "print(\"Our coefficient for l1=l2=l3 = 2 & m1=m2=m3 = 0 is {0:0.8f}\".format(CG_Coefficients[2,2,2,0,0,0]))\n",
    "\n",
    "print(\"Sympy's coefficient for l1=l2=l3 = 2 & m1=m2=m3 = 0 is {0:0.8f}\".format(cg))\n",
    "\n",
    "#should loop through every item though and make sure, will do later"
   ]
  },
  {
   "cell_type": "markdown",
   "id": "valid-spectacular",
   "metadata": {},
   "source": [
    "## An example of what the structure looks like for a 2D array, same principle applies"
   ]
  },
  {
   "cell_type": "code",
   "execution_count": 82,
   "id": "impressed-render",
   "metadata": {},
   "outputs": [
    {
     "name": "stdout",
     "output_type": "stream",
     "text": [
      "[['0_0' '' '' '' '' '' '' '' '']\n",
      " ['1_0' '1_1' '' '' '' '' '' '' '1_-1']\n",
      " ['2_0' '2_1' '2_2' '' '' '' '' '2_-2' '2_-1']\n",
      " ['3_0' '3_1' '3_2' '3_3' '' '' '3_-3' '3_-2' '3_-1']\n",
      " ['4_0' '4_1' '4_2' '4_3' '4_4' '4_-4' '4_-3' '4_-2' '4_-1']]\n",
      "\n",
      " The value in our array for l=1, m=0 is 1_0\n"
     ]
    }
   ],
   "source": [
    "ell_max=4\n",
    "test = np.zeros((ell_max+1, 2*ell_max + 1), dtype='U256')\n",
    "for l in range(0,ell_max+1):\n",
    "    for m in range(-l, l+1):\n",
    "        val = str(l) + '_' + str(m)\n",
    "        test[l,m] += val\n",
    "        \n",
    "print(test)  \n",
    "print(\"\\n The value in our array for l=1, m=0 is \" + test[1,0])\n"
   ]
  },
  {
   "cell_type": "code",
   "execution_count": null,
   "id": "delayed-fraction",
   "metadata": {},
   "outputs": [],
   "source": []
  }
 ],
 "metadata": {
  "kernelspec": {
   "display_name": "Python 3",
   "language": "python",
   "name": "python3"
  },
  "language_info": {
   "codemirror_mode": {
    "name": "ipython",
    "version": 3
   },
   "file_extension": ".py",
   "mimetype": "text/x-python",
   "name": "python",
   "nbconvert_exporter": "python",
   "pygments_lexer": "ipython3",
   "version": "3.7.3"
  }
 },
 "nbformat": 4,
 "nbformat_minor": 5
}
