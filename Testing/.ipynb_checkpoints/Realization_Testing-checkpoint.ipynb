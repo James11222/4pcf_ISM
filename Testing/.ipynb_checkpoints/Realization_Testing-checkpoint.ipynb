{
 "cells": [
  {
   "cell_type": "code",
   "execution_count": 9,
   "id": "assigned-enlargement",
   "metadata": {},
   "outputs": [
    {
     "name": "stdout",
     "output_type": "stream",
     "text": [
      "Import necessary libraries and packages\n"
     ]
    }
   ],
   "source": [
    "import numpy as np\n",
    "import matplotlib.pyplot as plt\n",
    "import pandas as pd\n",
    "from nbodykit.lab import *\n",
    "import mpl_toolkits.axes_grid1 as axgrid\n",
    "from mpl_toolkits.axes_grid1 import make_axes_locatable\n",
    "#Jiamin's Code\n",
    "from mk_Gaussian_Catalog import GenerateGRF\n",
    "from nbodykit.cosmology.correlation import *\n",
    "import nbodykit.algorithms.paircount_tpcf.tpcf as _2pcf\n",
    "\n",
    "import warnings\n",
    "\n",
    "def fxn():\n",
    "    warnings.warn(\"deprecated\", DeprecationWarning)\n",
    "\n",
    "with warnings.catch_warnings():\n",
    "    warnings.simplefilter(\"ignore\")\n",
    "    fxn()\n",
    "\n",
    "%matplotlib inline\n",
    "plt.style.use('dark_background')\n",
    "plt.rcParams['mathtext.fontset'] = 'stix'\n",
    "plt.rcParams['font.family'] = 'STIXGeneral'\n",
    "plt.rcParams['font.size'] = 22\n",
    "print(\"Import necessary libraries and packages\")"
   ]
  },
  {
   "cell_type": "markdown",
   "id": "departmental-deadline",
   "metadata": {},
   "source": [
    "### Create 10 realizations of the GRF"
   ]
  },
  {
   "cell_type": "code",
   "execution_count": 6,
   "id": "fitting-candy",
   "metadata": {},
   "outputs": [],
   "source": [
    "Nmesh = 64\n",
    "cname = '/Users/jamessunseri/desktop/uf_reu/4pcf_ISM/Testing/2pcf_theory_realizations/'\n",
    "Pk_in = None\n",
    "N = 10"
   ]
  },
  {
   "cell_type": "code",
   "execution_count": 4,
   "id": "italic-nudist",
   "metadata": {},
   "outputs": [
    {
     "name": "stdout",
     "output_type": "stream",
     "text": [
      "#obj= 587071 vol=3.900000 [Gpc/h]^3 lbox=1574.000000 [Mpc/h] nbar= 0.00015053102564102565\n"
     ]
    },
    {
     "name": "stderr",
     "output_type": "stream",
     "text": [
      "/Users/jamessunseri/anaconda3/lib/python3.7/site-packages/mcfit/mcfit.py:126: UserWarning: The default value of lowring has been changed to False, set it to True if you cannot reproduce previous results\n",
      "  warnings.warn(\"The default value of lowring has been changed to False, \"\n",
      "/Users/jamessunseri/anaconda3/lib/python3.7/site-packages/mcfit/mcfit.py:217: UserWarning: The default value of extrap has been changed to False, set it to True if you cannot reproduce previous results\n",
      "  warnings.warn(\"The default value of extrap has been changed to False, \"\n"
     ]
    },
    {
     "name": "stdout",
     "output_type": "stream",
     "text": [
      "#obj= 587071 vol=3.900000 [Gpc/h]^3 lbox=1574.000000 [Mpc/h] nbar= 0.00015053102564102565\n",
      "#obj= 587071 vol=3.900000 [Gpc/h]^3 lbox=1574.000000 [Mpc/h] nbar= 0.00015053102564102565\n",
      "#obj= 587071 vol=3.900000 [Gpc/h]^3 lbox=1574.000000 [Mpc/h] nbar= 0.00015053102564102565\n",
      "#obj= 587071 vol=3.900000 [Gpc/h]^3 lbox=1574.000000 [Mpc/h] nbar= 0.00015053102564102565\n",
      "#obj= 587071 vol=3.900000 [Gpc/h]^3 lbox=1574.000000 [Mpc/h] nbar= 0.00015053102564102565\n",
      "#obj= 587071 vol=3.900000 [Gpc/h]^3 lbox=1574.000000 [Mpc/h] nbar= 0.00015053102564102565\n",
      "#obj= 587071 vol=3.900000 [Gpc/h]^3 lbox=1574.000000 [Mpc/h] nbar= 0.00015053102564102565\n",
      "#obj= 587071 vol=3.900000 [Gpc/h]^3 lbox=1574.000000 [Mpc/h] nbar= 0.00015053102564102565\n",
      "#obj= 587071 vol=3.900000 [Gpc/h]^3 lbox=1574.000000 [Mpc/h] nbar= 0.00015053102564102565\n"
     ]
    }
   ],
   "source": [
    "for i in range(N):  \n",
    "    cname_dfield = 'deltar_' + str(i)\n",
    "    cname_GRF = 'GRF_data_' + str(i)\n",
    "    grf_i = GenerateGRF(Nmesh, Pk_in=Pk_in, do_inv_phase=True, cname=cname, \n",
    "                      cname_GRF=cname_GRF,cname_dfield = cname_dfield)\n",
    "    grf_i.run_mk_catalog_grf_weighted(do_save_catalog=True)"
   ]
  },
  {
   "cell_type": "markdown",
   "id": "functioning-jewelry",
   "metadata": {},
   "source": [
    "### Create the list of GRF Catalogs"
   ]
  },
  {
   "cell_type": "code",
   "execution_count": 7,
   "id": "minor-runner",
   "metadata": {},
   "outputs": [],
   "source": [
    "GRF_list = []\n",
    "for i in range(N):\n",
    "    cname_GRF = 'GRF_data_' + str(i)\n",
    "    data_GRF_i = np.loadtxt(cname + cname_GRF + '.txt')\n",
    "    GRF_Catalog_i = ArrayCatalog({'Position':data_GRF_i[:,0:3]}, attrs='ext')\n",
    "    GRF_Catalog_i['Weight'] = data_GRF_i[:,3]\n",
    "    GRF_list.append(GRF_Catalog_i)"
   ]
  },
  {
   "cell_type": "markdown",
   "id": "tired-secretariat",
   "metadata": {},
   "source": [
    "## Run 2PCF Calculations on each GRF Catalog\n",
    "\n",
    "### Load in Radial Bins"
   ]
  },
  {
   "cell_type": "code",
   "execution_count": 10,
   "id": "welcome-yahoo",
   "metadata": {},
   "outputs": [
    {
     "name": "stdout",
     "output_type": "stream",
     "text": [
      "The bin edges are:\n",
      "[ 0.99999   8.749995 16.5      24.250005 32.00001 ]\n"
     ]
    }
   ],
   "source": [
    "boundsandnumber = np.load(\"../Workspace/bin_bounds_and_pixel_number_demo.npy\")\n",
    "nbins = len(boundsandnumber[0,:]) - 1\n",
    "\n",
    "print(\"The bin edges are:\")\n",
    "bin_edges = boundsandnumber[0,:]\n",
    "print(bin_edges)"
   ]
  },
  {
   "cell_type": "markdown",
   "id": "partial-arrow",
   "metadata": {},
   "source": [
    "### Run Nbodykit algorithm"
   ]
  },
  {
   "cell_type": "code",
   "execution_count": 21,
   "id": "absolute-utilization",
   "metadata": {},
   "outputs": [],
   "source": [
    "_2PCF_list = []\n",
    "for i in range(N):\n",
    "    GRF_Catalog_i = GRF_list[i]\n",
    "    twopcf_i = SimulationBox2PCF(mode='1d', data1=GRF_Catalog_i, edges=bin_edges, BoxSize=1574) \n",
    "    twopcf_i.run()\n",
    "    _2PCF_list.append(twopcf_i)"
   ]
  },
  {
   "cell_type": "markdown",
   "id": "developmental-cattle",
   "metadata": {},
   "source": [
    "### Organize all the Realization Data into an Array"
   ]
  },
  {
   "cell_type": "code",
   "execution_count": 44,
   "id": "analyzed-metropolitan",
   "metadata": {},
   "outputs": [],
   "source": [
    "all_data = []\n",
    "for i in range(N):\n",
    "    twopcf_i = _2PCF_list[i]\n",
    "    GRF_2PCF_Data_i = twopcf_i.corr.data\n",
    "    rs_i = []\n",
    "    corrs_i = []\n",
    "    for j in range(len(GRF_2PCF_Data_i)):\n",
    "        corr_j = GRF_2PCF_Data_i[j][0]\n",
    "        r_j = (GRF_2PCF_Data_i[j][1]/64)*1574\n",
    "        rs_i.append(r_j)\n",
    "        corrs_i.append(corr_j)\n",
    "    data_i = [rs_i, corrs_i]\n",
    "    all_data.append(data_i)"
   ]
  },
  {
   "cell_type": "markdown",
   "id": "selected-proof",
   "metadata": {},
   "source": [
    "### Calculate the Mean and Error on N realizations of the GRF"
   ]
  },
  {
   "cell_type": "code",
   "execution_count": 67,
   "id": "second-script",
   "metadata": {},
   "outputs": [],
   "source": [
    "corr_i_0s = []\n",
    "corr_i_1s = []\n",
    "corr_i_2s = []\n",
    "corr_i_3s = []\n",
    "for i in range(N):\n",
    "    corr_i_0, corr_i_1 = all_data[i][1][0],all_data[i][1][1]\n",
    "    corr_i_2, corr_i_3 = all_data[i][1][2],all_data[i][1][3]\n",
    "    corr_i_0s.append(corr_i_0)\n",
    "    corr_i_1s.append(corr_i_1)\n",
    "    corr_i_2s.append(corr_i_2)\n",
    "    corr_i_3s.append(corr_i_3)\n",
    "    \n",
    "\n",
    "corrs_final = np.array([np.mean(corr_i_0s), np.mean(corr_i_1s), \n",
    "                        np.mean(corr_i_2s), np.mean(corr_i_3s)]) \n",
    "corrs_final_error = np.array([np.std(corr_i_0s), np.std(corr_i_1s), \n",
    "                        np.std(corr_i_2s), np.std(corr_i_3s)]) / np.sqrt(N)\n"
   ]
  },
  {
   "cell_type": "code",
   "execution_count": 99,
   "id": "through-commonwealth",
   "metadata": {},
   "outputs": [
    {
     "name": "stdout",
     "output_type": "stream",
     "text": [
      "The error for bin 0 is 0.004687685261721492 after 10 realizations\n",
      "The error for bin 1 is 0.0027681620288742977 after 10 realizations\n",
      "The error for bin 2 is 0.002085265592149583 after 10 realizations\n",
      "The error for bin 3 is 0.0016828864220646768 after 10 realizations\n"
     ]
    }
   ],
   "source": [
    "results = [print(\"The error for bin \" + str(k) + \" is \" + str(corrs_final_error[k]) + \" after \"\n",
    "                + str(N) + \" realizations\") for k in range(nbins)]"
   ]
  },
  {
   "cell_type": "markdown",
   "id": "prepared-study",
   "metadata": {},
   "source": [
    "### Plot the results"
   ]
  },
  {
   "cell_type": "code",
   "execution_count": 91,
   "id": "resistant-induction",
   "metadata": {},
   "outputs": [
    {
     "data": {
      "image/png": "[encoded data removed]",
      "text/plain": [
       "<Figure size 648x432 with 1 Axes>"
      ]
     },
     "metadata": {},
     "output_type": "display_data"
    }
   ],
   "source": [
    "f, (ax1) = plt.subplots(1,1, figsize=(9,6))\n",
    "ax1.set_title('$\\\\bar{\\\\xi}(r)$ vs. $r$')\n",
    "ax1.errorbar(rs_i, corrs_final, yerr=corrs_final_error, mfc='cyan', fmt='o', ecolor='red')\n",
    "ax1.errorbar(rs_i, corrs_final, yerr=corrs_final_error, mfc='cyan', fmt='none', ecolor='red')\n",
    "ax1.set_xlabel('$r$ [$h^{-1} Mpc$]')\n",
    "ax1.set_ylabel('$\\\\bar{\\\\xi}(r)$')\n",
    "f.tight_layout()\n",
    "plt.show()"
   ]
  },
  {
   "cell_type": "code",
   "execution_count": null,
   "id": "dried-stream",
   "metadata": {},
   "outputs": [],
   "source": []
  }
 ],
 "metadata": {
  "kernelspec": {
   "display_name": "Python 3",
   "language": "python",
   "name": "python3"
  },
  "language_info": {
   "codemirror_mode": {
    "name": "ipython",
    "version": 3
   },
   "file_extension": ".py",
   "mimetype": "text/x-python",
   "name": "python",
   "nbconvert_exporter": "python",
   "pygments_lexer": "ipython3",
   "version": "3.7.3"
  }
 },
 "nbformat": 4,
 "nbformat_minor": 5
}
